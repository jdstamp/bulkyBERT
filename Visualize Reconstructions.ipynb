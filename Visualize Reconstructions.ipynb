{
 "cells": [
  {
   "cell_type": "code",
   "execution_count": 44,
   "id": "8c63b6b6",
   "metadata": {},
   "outputs": [],
   "source": [
    "import h5py\n",
    "import numpy as np\n",
    "from pyts.image import RecurrencePlot\n",
    "import tensorflow as tf\n",
    "from sklearn.metrics import silhouette_score\n",
    "from sklearn.model_selection import StratifiedKFold\n",
    "import random\n",
    "\n",
    "from src.clustering_model.ConvolutionalAutoEncoder import ConvolutionalAutoEncoder\n",
    "from src.clustering_model.GeneClusteringModel import GeneClusteringModel\n",
    "\n",
    "import matplotlib.pyplot as plt\n",
    "import matplotlib.colors as colors\n",
    "import matplotlib.cbook as cbook\n",
    "from matplotlib import cm"
   ]
  },
  {
   "cell_type": "code",
   "execution_count": 45,
   "id": "49b798ce",
   "metadata": {},
   "outputs": [
    {
     "name": "stdout",
     "output_type": "stream",
     "text": [
      "(4000, 16, 16, 1)\n",
      "Model: \"sequential_2\"\n",
      "_________________________________________________________________\n",
      " Layer (type)                Output Shape              Param #   \n",
      "=================================================================\n",
      " conv2d_6 (Conv2D)           (None, 8, 8, 32)          832       \n",
      "                                                                 \n",
      " conv2d_7 (Conv2D)           (None, 4, 4, 64)          51264     \n",
      "                                                                 \n",
      " conv2d_8 (Conv2D)           (None, 2, 2, 128)         73856     \n",
      "                                                                 \n",
      " flatten_2 (Flatten)         (None, 512)               0         \n",
      "                                                                 \n",
      " latent (Dense)              (None, 10)                5130      \n",
      "                                                                 \n",
      " dense_2 (Dense)             (None, 512)               5632      \n",
      "                                                                 \n",
      " reshape_2 (Reshape)         (None, 2, 2, 128)         0         \n",
      "                                                                 \n",
      " conv2d_transpose_6 (Conv2DT  (None, 4, 4, 64)         73792     \n",
      " ranspose)                                                       \n",
      "                                                                 \n",
      " conv2d_transpose_7 (Conv2DT  (None, 8, 8, 32)         51232     \n",
      " ranspose)                                                       \n",
      "                                                                 \n",
      " conv2d_transpose_8 (Conv2DT  (None, 16, 16, 1)        801       \n",
      " ranspose)                                                       \n",
      "                                                                 \n",
      "=================================================================\n",
      "Total params: 262,539\n",
      "Trainable params: 262,539\n",
      "Non-trainable params: 0\n",
      "_________________________________________________________________\n"
     ]
    }
   ],
   "source": [
    "data_sim = h5py.File(\"data/data_simulated/sim_erdosrenyi.h5\", \"r\")\n",
    "train_examples = data_sim.get(\"expression/data\")\n",
    "train_labels = data_sim.get(\"expression/labels\")\n",
    "train_examples = np.transpose(train_examples[:], (0, 2, 1))\n",
    "train_labels = np.transpose(train_labels[:], (1, 0))\n",
    "train_labels = tf.repeat(train_labels, train_examples.shape[1], axis=1)\n",
    "train_examples = tf.reshape(train_examples, (-1, 16))\n",
    "train_labels = tf.reshape(train_labels, (-1, 1))\n",
    "\n",
    "transformer = RecurrencePlot(threshold=None)\n",
    "train_images = transformer.transform(train_examples)\n",
    "train_images = tf.expand_dims(train_images, axis=3)\n",
    "print(train_images.shape)\n",
    "\n",
    "test = ConvolutionalAutoEncoder()\n",
    "optimizer = tf.keras.optimizers.Adam()\n",
    "test.model.compile(optimizer=optimizer, loss=\"mse\")\n",
    "test.model.fit(train_images, train_images, batch_size=32, epochs=100, verbose=0)\n",
    "test.model.summary()\n",
    "images_reconstructed = test.model(train_images)"
   ]
  },
  {
   "cell_type": "code",
   "execution_count": 47,
   "id": "1333131a",
   "metadata": {
    "scrolled": true
   },
   "outputs": [
    {
     "data": {
      "image/png": "[encoded data removed]",
      "text/plain": [
       "<Figure size 640x480 with 2 Axes>"
      ]
     },
     "metadata": {},
     "output_type": "display_data"
    }
   ],
   "source": [
    "selected = random.sample(range(images_reconstructed.shape[0]), 10)\n",
    "\n",
    "cmap = cm.coolwarm\n",
    "\n",
    "for count, idx in enumerate(selected):\n",
    "    data_original = train_images[idx,:,:,0]\n",
    "    data_reconstruct = images_reconstructed[idx,:,:,0]\n",
    "\n",
    "    all_data = np.append(data_original, data_reconstruct)\n",
    "    all_data = np.reshape(all_data, -1)\n",
    "\n",
    "    zmax = np.max(all_data)\n",
    "    zmin=np.min(all_data)\n",
    "\n",
    "    plt.subplot(1,2,1)\n",
    "\n",
    "    plt.imshow(data_original, cmap=cmap, vmin=zmin, vmax=zmax)\n",
    "    plt.title('Original')\n",
    "    plt.axis('off')\n",
    "\n",
    "    plt.subplot(1,2,2)\n",
    "    plt.imshow(data, cmap=cmap, vmin=zmin, vmax=zmax)\n",
    "    plt.title('Reconstruction')\n",
    "    plt.axis('off')\n",
    "\n",
    "    plt.savefig('data/images/example_%s.png' % idx, bbox_inches='tight')"
   ]
  },
  {
   "cell_type": "code",
   "execution_count": 53,
   "id": "1bbe9936",
   "metadata": {},
   "outputs": [
    {
     "data": {
      "text/plain": [
       "<matplotlib.image.AxesImage at 0x1fddf2e4040>"
      ]
     },
     "execution_count": 53,
     "metadata": {},
     "output_type": "execute_result"
    },
    {
     "data": {
      "image/png": "[encoded data removed]",
      "text/plain": [
       "<Figure size 640x480 with 1 Axes>"
      ]
     },
     "metadata": {},
     "output_type": "display_data"
    }
   ],
   "source": [
    "plt.imshow(train_images[80,:,:,0])"
   ]
  },
  {
   "cell_type": "code",
   "execution_count": 54,
   "id": "b751ba5c",
   "metadata": {},
   "outputs": [
    {
     "data": {
      "text/plain": [
       "<matplotlib.image.AxesImage at 0x1fdec7acb20>"
      ]
     },
     "execution_count": 54,
     "metadata": {},
     "output_type": "execute_result"
    },
    {
     "data": {
      "image/png": "[encoded data removed]",
      "text/plain": [
       "<Figure size 640x480 with 1 Axes>"
      ]
     },
     "metadata": {},
     "output_type": "display_data"
    }
   ],
   "source": [
    "plt.imshow(images_reconstructed[80,:,:,0])"
   ]
  },
  {
   "cell_type": "code",
   "execution_count": null,
   "id": "e93ee778",
   "metadata": {},
   "outputs": [],
   "source": []
  }
 ],
 "metadata": {
  "kernelspec": {
   "display_name": "Python 3 (ipykernel)",
   "language": "python",
   "name": "python3"
  },
  "language_info": {
   "codemirror_mode": {
    "name": "ipython",
    "version": 3
   },
   "file_extension": ".py",
   "mimetype": "text/x-python",
   "name": "python",
   "nbconvert_exporter": "python",
   "pygments_lexer": "ipython3",
   "version": "3.10.9"
  }
 },
 "nbformat": 4,
 "nbformat_minor": 5
}
